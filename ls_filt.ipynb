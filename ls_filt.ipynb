{
 "cells": [
  {
   "cell_type": "code",
   "execution_count": 14,
   "metadata": {
    "collapsed": true
   },
   "outputs": [],
   "source": [
    "from sympy import symbols, Function, solve\n",
    "from sympy import diff, sin, exp"
   ]
  },
  {
   "cell_type": "code",
   "execution_count": 11,
   "metadata": {},
   "outputs": [],
   "source": [
    "x, y, c1, c2, c3, n = symbols('x y c1 c2 c3 n')\n",
    "y = Function('y')"
   ]
  },
  {
   "cell_type": "code",
   "execution_count": 21,
   "metadata": {},
   "outputs": [
    {
     "name": "stdout",
     "output_type": "stream",
     "text": [
      "2*c1 + 2*c2*n + 2*c3*n**2 - 2*x\n",
      "-2*n*(-c1 - c2*n - c3*n**2 + x)\n",
      "-2*n**2*(-c1 - c2*n - c3*n**2 + x)\n"
     ]
    }
   ],
   "source": [
    "print(diff((x - c1 - c2*n-c3*n*n)**2, c1))\n",
    "print(diff((x - c1 - c2*n-c3*n*n)**2, c2))\n",
    "print(diff((x - c1 - c2*n-c3*n*n)**2, c3))"
   ]
  },
  {
   "cell_type": "code",
   "execution_count": null,
   "metadata": {
    "collapsed": true
   },
   "outputs": [],
   "source": []
  }
 ],
 "metadata": {
  "kernelspec": {
   "display_name": "Python 3",
   "language": "python",
   "name": "python3"
  },
  "language_info": {
   "codemirror_mode": {
    "name": "ipython",
    "version": 3
   },
   "file_extension": ".py",
   "mimetype": "text/x-python",
   "name": "python",
   "nbconvert_exporter": "python",
   "pygments_lexer": "ipython3",
   "version": "3.6.3"
  }
 },
 "nbformat": 4,
 "nbformat_minor": 2
}
