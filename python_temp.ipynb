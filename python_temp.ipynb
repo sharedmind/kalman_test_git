{
 "cells": [
  {
   "cell_type": "code",
   "execution_count": 1,
   "metadata": {
    "collapsed": true
   },
   "outputs": [],
   "source": [
    "%matplotlib inline\n",
    "import numpy as np\n",
    "import scipy.signal as scs #filtr S-G\n",
    "import matplotlib.pyplot as plt\n",
    "import matplotlib\n",
    "from sklearn.metrics import mean_squared_error#metryki do porownan"
   ]
  },
  {
   "cell_type": "code",
   "execution_count": 2,
   "metadata": {
    "collapsed": true
   },
   "outputs": [],
   "source": [
    "def kalmN(N):\n",
    "    \n",
    "    \"\"\"\n",
    "    Predykcja\n",
    "        X - przewidywana wartosc stanu\n",
    "        P - kowariancja stanu\n",
    "        A n x n - macierz przejscia stanu\n",
    "        B n x 1 - macierz sterowania\n",
    "    Korekcja\n",
    "        H n x 1 - macierz wizazaca stany z wielkosciami mierzonymi\n",
    "        R - macierz kowariancji szumu pomirowego\n",
    "        Q - macierz kowariancji procesu\n",
    "        Y - pomiar w kroku k\n",
    "        V - measurement residual w kroku k\n",
    "        S - kowariancja predykcji pomiaru w kroku k\n",
    "        K - wzmocnienie\n",
    "    \n",
    "    \n",
    "    \"\"\"\n",
    "    \n",
    "    \n",
    "    \n",
    "    dt = 0.1#krok czasowy\n",
    "    \n",
    "    #model\n",
    "    X = np.array([[0.0],[0.0],[0.1],[0.1]])    \n",
    "    P = np.diag((0.1, 0.1, 0.1, 0.1))\n",
    "    A = np.array([[1, 0 , dt, 0],\\\n",
    "                 [0, 1, 0, dt],\\\n",
    "                 [0, 0, 1, 0],\\\n",
    "                 [0, 0, 0, 1]])\n",
    "    Q = np.eye((X.shape)[0])# X is Nx1\n",
    "    B = np.eye((X.shape)[0])# X is Nx1\n",
    "    U = np.zeros(((X.shape)[0],1))# U is Nx1\n",
    "       \n",
    "    H = np.array([[1, 0, 0, 0], [0, 1, 0, 0]])\n",
    "    Y = np.array([[X[0,0] + np.abs(np.random.randn())],\\\n",
    "                  [X[1,0] + np.abs(np.random.randn())]])\n",
    "    \n",
    "    R = np.eye((Y.shape)[0])# X is Nx1   \n",
    "    \n",
    "    \n",
    "    print(\"X\", X.shape)\n",
    "    print(\"P\", P.shape)\n",
    "    print(\"A\", A.shape)\n",
    "    print(\"Q\", Q.shape)\n",
    "    print(\"B\", B.shape)\n",
    "    print(\"U\", U.shape)\n",
    "    print(\"Y\", Y.shape)\n",
    "    print(\"H\", H.shape)\n",
    "    print(\"R\", R.shape)    \n",
    "    kf_out = []\n",
    "    y_out = []\n",
    "    for i in np.arange(0,N):\n",
    "        #pomiar\n",
    "        Y = np.array([[X[0,0] + np.abs(0.1*np.random.randn())], \\\n",
    "                  [X[1,0] + np.abs(0.1*np.random.randn())]])\n",
    "    \n",
    "        #predykcja\n",
    "        X = np.dot(A,X) + np.dot(B,U)# X[k] = A*X[k-1] + B * u[k-1] \n",
    "        P = np.dot(A, np.dot(P,A.T)) + Q# P[k] = A*P[k-1]A' + Q\n",
    "        #korekcja\n",
    "        #HX = np.dot(H,X)\n",
    "        V = Y - np.dot(H,X)# measurement residual w kroku k\n",
    "        S = np.dot(H, np.dot(P,H.T)) + R# predykcja w kroku k kowariancji szumu pomiarowego\n",
    "        K = np.dot(P, np.dot(H.T, np.linalg.inv(S)))\n",
    "        X = X + np.dot(K, V)\n",
    "        P = P - np.dot(K, np.dot(S, K.T))  \n",
    "        kf_out.append(X[0][0])#wyjscie KF\n",
    "        y_out.append(Y[0][0])#pomiar\n",
    "    \n",
    "    return kf_out, y_out"
   ]
  },
  {
   "cell_type": "code",
   "execution_count": 3,
   "metadata": {},
   "outputs": [
    {
     "name": "stdout",
     "output_type": "stream",
     "text": [
      "X (4, 1)\n",
      "P (4, 4)\n",
      "A (4, 4)\n",
      "Q (4, 4)\n",
      "B (4, 4)\n",
      "U (4, 1)\n",
      "Y (2, 1)\n",
      "H (2, 4)\n",
      "R (2, 2)\n"
     ]
    },
    {
     "data": {
      "text/plain": [
       "[<matplotlib.lines.Line2D at 0xb208f30>]"
      ]
     },
     "execution_count": 3,
     "metadata": {},
     "output_type": "execute_result"
    },
    {
     "data": {
      "image/png": "[encoded data removed]",
      "text/plain": [
       "<matplotlib.figure.Figure at 0x8a5e990>"
      ]
     },
     "metadata": {},
     "output_type": "display_data"
    }
   ],
   "source": [
    "kf_out, y_out = kalmN(30)\n",
    "plt.plot(kf_out, '-g')\n",
    "plt.plot(y_out, '.r')"
   ]
  },
  {
   "cell_type": "code",
   "execution_count": 4,
   "metadata": {
    "collapsed": true
   },
   "outputs": [],
   "source": [
    "from bokeh.io import output_notebook, show\n",
    "from bokeh.plotting import figure\n",
    "# create a new plot with default tools, using figure\n",
    "p = figure(plot_width=400, plot_height=400)\n",
    "\n",
    "# add a circle renderer with a size, color, and alpha\n",
    "p.circle([1, 2, 3, 4, 5], [6, 7, 2, 4, 5], size=15, line_color=\"navy\", fill_color=\"orange\", fill_alpha=0.5)\n",
    "\n",
    "show(p) # show the results"
   ]
  },
  {
   "cell_type": "code",
   "execution_count": null,
   "metadata": {
    "collapsed": true
   },
   "outputs": [],
   "source": []
  }
 ],
 "metadata": {
  "kernelspec": {
   "display_name": "Python 3",
   "language": "python",
   "name": "python3"
  },
  "language_info": {
   "codemirror_mode": {
    "name": "ipython",
    "version": 3
   },
   "file_extension": ".py",
   "mimetype": "text/x-python",
   "name": "python",
   "nbconvert_exporter": "python",
   "pygments_lexer": "ipython3",
   "version": "3.6.3"
  }
 },
 "nbformat": 4,
 "nbformat_minor": 2
}
